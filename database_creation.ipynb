{
 "cells": [
  {
   "cell_type": "markdown",
   "metadata": {},
   "source": [
    "Этот скрипт с описаниями всех шагов создает и формирует базу данных по потоку заявок из сырых .txt файлов. В нулевом блоке необходимо указать ваши параметры:\n",
    "1. DB_NAME - желаемое имя базы данных\n",
    "2. PATH - путь к директории, содержащей сырые .txt файлы (можно относительный к этому скрипту)\n",
    "3. SEPARATOR - разграничитель в полях сырых файлов (ожидается ',', поскольку Биржа предоставляет данные именно в таком формате, но этот факт может быть изменен пользователем).\n",
    "\n",
    "После всех этих настроек запуск скрипта обеспечивает формирование полной базы данных (пожалуйста, убедитесь, что на вашем диске достаточно места для формирования такой БД: грубая оценка веса всех .txt файлов, подлежащих обработке). "
   ]
  },
  {
   "cell_type": "markdown",
   "metadata": {},
   "source": [
    "# 0. Структура"
   ]
  },
  {
   "cell_type": "markdown",
   "metadata": {},
   "source": [
    "Подключаются необходимые библиотеки, заполняются глобальные переменные (CAPS_LOCK), далее вся логика реализована \n",
    "в функции main(). \n",
    "Для подробностей можно читать далее (начиная с раздела 1): подготовлено описание не самых очевидных моментов функции main()."
   ]
  },
  {
   "cell_type": "code",
   "execution_count": 1,
   "metadata": {},
   "outputs": [],
   "source": [
    "from sqlalchemy import create_engine\n",
    "\n",
    "import numpy as np\n",
    "import pandas as pd\n",
    "import psycopg2\n",
    "import os"
   ]
  },
  {
   "cell_type": "code",
   "execution_count": 2,
   "metadata": {},
   "outputs": [],
   "source": [
    "DB_NAME = 'orderlogs'  # the name of PostgreSQL Database\n",
    "QUERY_CREATION = 'CREATE DATABASE \"{}\" WITH OWNER = postgres TEMPLATE = template0 ENCODING = UTF8'.format(\n",
    "    DB_NAME)  # generation query\n",
    "PATH = './data_initial/'  # path to the Orderlog***.txt files\n",
    "SEPARATOR = ','  # the separator of data columns in the raw data files"
   ]
  },
  {
   "cell_type": "code",
   "execution_count": 3,
   "metadata": {},
   "outputs": [],
   "source": [
    "def main():\n",
    "    !echo \"SELECT '{QUERY_CREATION}' WHERE NOT EXISTS (SELECT FROM pg_database WHERE datname = '{DB_NAME}') \\gexec\" | psql\n",
    "    lst_table_names = get_table_names(PATH)  # get the names for all tables in the dataframe\n",
    "    creation_data_tables(DB_NAME, lst_table_names)  # creation the SQL tables with fields restrictions\n",
    "    table_filling(lst_table_names)  # filling the tables with the data from the raw .txt files"
   ]
  },
  {
   "cell_type": "markdown",
   "metadata": {},
   "source": [
    "# 1. Создание БД \n",
    "\n",
    "Развертывается сервер PostgreSQL локально; создается база данных с именем глобальной переменной DB_NAME.\n",
    "\n",
    "(1 строка функции main() - соответствующий bash скрипт)"
   ]
  },
  {
   "cell_type": "markdown",
   "metadata": {},
   "source": [
    "## 1.1. Создание таблиц для ордерлогов"
   ]
  },
  {
   "cell_type": "markdown",
   "metadata": {},
   "source": [
    "Здесь создаем подключение к созданной БД и прописываем необходимые ограничения на поля:\n",
    "1. NO - номер записи (bigint)\n",
    "2. SECCODE - тикер инструмента (строка с плавающим числом знаков, до 20, чтобы снизить размер БД)\n",
    "3. BUYSELL - идентификатор купить / продать (строка с 1 знаком: 'B' или 'S')\n",
    "4. TIME - время заявки в формате целого числа (bigint)\n",
    "5. ORDERNO - номер заявки (bigint)\n",
    "6. ACTION - тип заявки (постановка - 1, снятие - 0, исполнение - 2, smallint, чтобы снизить размер БД)\n",
    "7. PRICE - цена заявки, числа с плавающей точкой\n",
    "8. VOLUME - объем заявки (bigint)\n",
    "9. TRADENO - номер сделки, если таковая произошла (bigint, может быть NULL)\n",
    "10. TRADEPRICE - цена сделки, если таковая произошла (real, может быть NULL)\n",
    "\n",
    "Ключом таблицы является уникальный номер записи, \"NO\"."
   ]
  },
  {
   "cell_type": "code",
   "execution_count": 4,
   "metadata": {},
   "outputs": [],
   "source": [
    "def creation_data_tables(database_name, lst_table_name):\n",
    "    '''This function creates in the database with name database_name the series of \n",
    "    tables with names from list lst_table_name\n",
    "    \n",
    "    :database_name: string\n",
    "    :lst_table_name: list of strings\n",
    "    '''\n",
    "    for table_name in lst_table_name:\n",
    "        with psycopg2.connect(dbname=DB_NAME,\n",
    "                          user='postgres',\n",
    "                          password='',\n",
    "                          host='localhost',\n",
    "                          port=5432) as conn:\n",
    "\n",
    "            cursor = conn.cursor()\n",
    "\n",
    "            cursor.execute(f'''\n",
    "            CREATE TABLE IF NOT EXISTS \"{table_name}\"\n",
    "                (\n",
    "                \"NO\" bigint NOT NULL,\n",
    "                \"SECCODE\" varchar(20) COLLATE pg_catalog.\"default\" NOT NULL,\n",
    "                \"BUYSELL\" char(1) COLLATE pg_catalog.\"default\" NOT NULL,\n",
    "                \"TIME\" bigint NOT NULL,\n",
    "                \"ORDERNO\" bigint NOT NULL,\n",
    "                \"ACTION\" smallint NOT NULL, \n",
    "                \"PRICE\" real NOT NULL,\n",
    "                \"VOLUME\" bigint NOT NULL,\n",
    "                \"TRADENO\" bigint,\n",
    "                \"TRADEPRICE\" real,\n",
    "                CONSTRAINT \"{table_name}_pkey\" PRIMARY KEY (\"NO\")\n",
    "                )\n",
    "            TABLESPACE pg_default;\n",
    "            ''')\n",
    "\n",
    "            conn.commit()"
   ]
  },
  {
   "cell_type": "markdown",
   "metadata": {},
   "source": [
    "### 1.1.1. Получение списка необходимых имен"
   ]
  },
  {
   "cell_type": "markdown",
   "metadata": {},
   "source": [
    "Из директории, содержащей сырые данные по заявкам (в формате .txt), вид которой примерно следующий: \n",
    "\n",
    "- ./data/\n",
    "\n",
    "    -- OrderLog20190603.txt\n",
    "    \n",
    "    -- OrderLog20190606.txt\n",
    "    \n",
    "    -- ...\n",
    "    \n",
    "    -- .DS_Store\n",
    "\n",
    "Отбираем только файлы формата .txt, сохраняем идентификатор даты, в формате, например, 20190603, и формируем список из всех доступных дат. "
   ]
  },
  {
   "cell_type": "code",
   "execution_count": 5,
   "metadata": {},
   "outputs": [],
   "source": [
    "def get_table_names(path):\n",
    "    '''This function generates the table names from the initial data files\n",
    "    \n",
    "    :path: string that is path to the directory with data files (in .txt format), \n",
    "        for example: './data_initial/'\n",
    "    '''\n",
    "    names_array = pd.Series(os.listdir(path), dtype=str)\n",
    "    \n",
    "    names_array.index = list(map(lambda x: x[-3:], names_array))\n",
    "    \n",
    "    names_filtered = sorted(list(map(lambda x: int(x[-12:-4]), names_array['txt'])))\n",
    "\n",
    "    return names_filtered"
   ]
  },
  {
   "cell_type": "markdown",
   "metadata": {},
   "source": [
    "## 1.2. Заполнение таблиц из сырых файлов"
   ]
  },
  {
   "cell_type": "markdown",
   "metadata": {},
   "source": [
    "Далее подхватываем данные в сырых файлах (в .txt) и с помощью консоли добавляем их в сформированные таблицы в базе данных."
   ]
  },
  {
   "cell_type": "code",
   "execution_count": 6,
   "metadata": {},
   "outputs": [],
   "source": [
    "def table_filling(lst_table_names):\n",
    "    '''This function fills the PostgreSQL tables from the lst_table_names\n",
    "    \n",
    "    :lst_table_names: the list of table_names in format like 20190606\n",
    "    '''\n",
    "    for table_name in lst_table_names:\n",
    "        print('Start to append table for {}'.format(table_name))\n",
    "        path = os.path.abspath(os.path.join(PATH, 'OrderLog{}.txt'.format(table_name)))\n",
    "        !echo 'COPY \"{table_name}\"' \"FROM '{path}' DELIMITERS '{SEPARATOR}' HEADER CSV;\" | psql {DB_NAME}\n",
    "        print('Table {} successfully filled'.format(table_name))"
   ]
  },
  {
   "cell_type": "markdown",
   "metadata": {},
   "source": [
    "# 2. Запуск main()"
   ]
  },
  {
   "cell_type": "markdown",
   "metadata": {},
   "source": [
    "Запускаем main() функцию и видим отображение прогресса по заполнению базы данных из всех файлов в указанной директории. "
   ]
  },
  {
   "cell_type": "code",
   "execution_count": 7,
   "metadata": {},
   "outputs": [
    {
     "name": "stdout",
     "output_type": "stream",
     "text": [
      "CREATE DATABASE\n",
      "Start to append table for 20190603\n",
      "COPY 16642888\n",
      "Table 20190603 successfully filled\n",
      "Start to append table for 20190604\n",
      "COPY 13385835\n",
      "Table 20190604 successfully filled\n",
      "Start to append table for 20190605\n",
      "COPY 9761893\n",
      "Table 20190605 successfully filled\n",
      "Start to append table for 20190606\n",
      "COPY 9500628\n",
      "Table 20190606 successfully filled\n",
      "Start to append table for 20190607\n",
      "COPY 8301152\n",
      "Table 20190607 successfully filled\n",
      "Start to append table for 20190610\n",
      "COPY 7807791\n",
      "Table 20190610 successfully filled\n",
      "Start to append table for 20190611\n",
      "COPY 9639997\n",
      "Table 20190611 successfully filled\n",
      "Start to append table for 20190613\n",
      "COPY 9606738\n",
      "Table 20190613 successfully filled\n",
      "Start to append table for 20190614\n",
      "COPY 9250853\n",
      "Table 20190614 successfully filled\n",
      "Start to append table for 20190617\n",
      "COPY 9548751\n",
      "Table 20190617 successfully filled\n",
      "Start to append table for 20190618\n",
      "COPY 9991164\n",
      "Table 20190618 successfully filled\n",
      "Start to append table for 20190619\n",
      "COPY 7973424\n",
      "Table 20190619 successfully filled\n",
      "Start to append table for 20190620\n",
      "COPY 10690128\n",
      "Table 20190620 successfully filled\n",
      "Start to append table for 20190621\n",
      "COPY 9781477\n",
      "Table 20190621 successfully filled\n",
      "Start to append table for 20190624\n",
      "COPY 6898035\n",
      "Table 20190624 successfully filled\n",
      "Start to append table for 20190625\n",
      "COPY 8065323\n",
      "Table 20190625 successfully filled\n",
      "Start to append table for 20190626\n",
      "COPY 8415482\n",
      "Table 20190626 successfully filled\n",
      "Start to append table for 20190627\n",
      "COPY 7489015\n",
      "Table 20190627 successfully filled\n",
      "Start to append table for 20190628\n",
      "COPY 6594336\n",
      "Table 20190628 successfully filled\n"
     ]
    }
   ],
   "source": [
    "if __name__ == '__main__':\n",
    "    main()"
   ]
  }
 ],
 "metadata": {
  "kernelspec": {
   "display_name": "Python 3",
   "language": "python",
   "name": "python3"
  },
  "language_info": {
   "codemirror_mode": {
    "name": "ipython",
    "version": 3
   },
   "file_extension": ".py",
   "mimetype": "text/x-python",
   "name": "python",
   "nbconvert_exporter": "python",
   "pygments_lexer": "ipython3",
   "version": "3.7.6"
  }
 },
 "nbformat": 4,
 "nbformat_minor": 2
}
