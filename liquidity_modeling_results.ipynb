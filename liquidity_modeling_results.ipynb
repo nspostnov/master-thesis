{
 "cells": [
  {
   "cell_type": "code",
   "execution_count": 12,
   "metadata": {},
   "outputs": [],
   "source": [
    "from psycopg2 import connect as cnct\n",
    "from datetime import datetime\n",
    "from scipy.stats import mannwhitneyu\n",
    "from datetime import datetime\n",
    "\n",
    "import pandas as pd\n",
    "import numpy as np\n",
    "import matplotlib.pyplot as plt\n",
    "import os"
   ]
  },
  {
   "cell_type": "markdown",
   "metadata": {},
   "source": [
    "# 0. Подготовка глобальных переменных"
   ]
  },
  {
   "cell_type": "code",
   "execution_count": 2,
   "metadata": {},
   "outputs": [],
   "source": [
    "DB_NAME = 'orderlogs'\n",
    "DB_SETTINGS = {\n",
    "    'dbname': DB_NAME,\n",
    "    'user': 'postgres',\n",
    "    'password': '',\n",
    "    'host': 'localhost',\n",
    "    'port': 5432\n",
    "}\n",
    "\n",
    "with cnct(**DB_SETTINGS) as conn:\n",
    "    cur = conn.cursor()\n",
    "    cur.execute(\"SELECT table_name FROM information_schema.tables WHERE table_schema='public'\")\n",
    "    TABLE_NAMES = cur.fetchall()\n",
    "    TABLE_NAMES = sorted(list(map(lambda x: x[0], TABLE_NAMES)))\n",
    "\n",
    "SECCODES = sorted(list(pd.read_excel(\n",
    "    os.path.join(\n",
    "        os.path.abspath(''), \n",
    "        'data_results/selection/volume_instruments_specification.xlsx'))['Торговый код']))\n",
    "\n",
    "PATH = os.path.join(os.path.abspath(''), './data_results/liquidity_time_series')"
   ]
  },
  {
   "cell_type": "markdown",
   "metadata": {},
   "source": [
    "# 1. Сборка результатов моделирования по различным тикерам"
   ]
  },
  {
   "cell_type": "code",
   "execution_count": 3,
   "metadata": {},
   "outputs": [],
   "source": [
    "def datetime_convertion(date, time):\n",
    "    '''This function converts time in int format like 20190101, 125959000000 to POSIX\n",
    "    \n",
    "    :date: date in int format\n",
    "    :time: time in int format\n",
    "    '''\n",
    "    year = int(str(date)[:4])\n",
    "    month = int(str(date)[4:6])\n",
    "    day = int(str(date)[6:])\n",
    "\n",
    "    hours = int(str(time)[:2])\n",
    "    minutes = int(str(time)[2:4])\n",
    "    seconds = int(str(time)[4:6])\n",
    "    microseconds = int(str(time)[6:])\n",
    "\n",
    "    return datetime(year, month, day, hours, minutes, seconds, microseconds)"
   ]
  },
  {
   "cell_type": "code",
   "execution_count": 4,
   "metadata": {},
   "outputs": [],
   "source": [
    "def table_results_combine(ticker):\n",
    "    '''This function combines the results for one ticker over all days in the data base\n",
    "    \n",
    "    :ticker: the name of fin. instrument in the str format (for example, 'AFKS')\n",
    "    :return: pd.DataFrame object with fields SECCODE, Date, TIME, Alpha_B, Alpha_S, Beta_B, Beta_S\n",
    "    '''\n",
    "    lst_files = list(filter(lambda x: ticker in x, os.listdir(PATH)))\n",
    "\n",
    "    dataframe_ticker = pd.DataFrame(columns=['Date', 'TIME', 'SECCODE', 'Alpha_B', 'Beta_B', 'Alpha_S', 'Beta_S'])\n",
    "    for path_to_file in lst_files:\n",
    "        df = pd.read_csv(os.path.join(PATH, path_to_file), index_col=0)\n",
    "        df['Date'] = int(path_to_file[-12:-4])\n",
    "        df['SECCODE'] = path_to_file[:-13]\n",
    "        dataframe_ticker = pd.concat((dataframe_ticker, df), sort=False)\n",
    "    \n",
    "    dataframe_ticker['DATETIME'] = np.array(list(map(lambda x: datetime_convertion(*x), zip(dataframe_ticker.Date, dataframe_ticker.TIME))))\n",
    "    dataframe_ticker = dataframe_ticker[['SECCODE', 'DATETIME', 'Alpha_B', \n",
    "                                         'Alpha_S', 'Beta_B', 'Beta_S']].sort_values(by=['SECCODE', 'DATETIME']).reset_index(drop=True)\n",
    "    \n",
    "    return dataframe_ticker"
   ]
  },
  {
   "cell_type": "code",
   "execution_count": 5,
   "metadata": {},
   "outputs": [],
   "source": [
    "def plot_results_tightness(dataframe, export=None):\n",
    "    '''This function plots the results and saves into the .pdf\n",
    "    \n",
    "    :dataframe: pd.DataFrame object - the return of table_results_combine function\n",
    "    '''\n",
    "    ticker = dataframe.SECCODE[0]\n",
    "\n",
    "    plt.figure()\n",
    "    plt.plot(dataframe.DATETIME, dataframe.Alpha_B)\n",
    "    plt.plot(dataframe.DATETIME, dataframe.Alpha_S)\n",
    "    plt.legend(['Tightness Buy', 'Tightness Sell'])\n",
    "    plt.title('The Visualization of Tightness for {}'.format(ticker))\n",
    "    plt.xlabel('Date')\n",
    "    plt.ylabel('Value of Parameter')\n",
    "    plt.xticks(rotation=15)\n",
    "    if export is None:\n",
    "        plt.show()\n",
    "    else:\n",
    "        plt.savefig(os.path.join(os.path.abspath(''), \n",
    "                                 './data_results/liquidity_figures/{}_tightness.pdf'.format(ticker)),\n",
    "                   bbox_inches='tight')\n",
    "        plt.close()"
   ]
  },
  {
   "cell_type": "code",
   "execution_count": 6,
   "metadata": {},
   "outputs": [],
   "source": [
    "def plot_results_depth(dataframe, export=None):\n",
    "    '''This function plots the results and saves into the .pdf\n",
    "    \n",
    "    :dataframe: pd.DataFrame object - the return of table_results_combine function\n",
    "    '''\n",
    "    ticker = dataframe.SECCODE[0]\n",
    "\n",
    "    plt.figure()\n",
    "    plt.plot(dataframe.DATETIME, dataframe.Beta_B)\n",
    "    plt.plot(dataframe.DATETIME, dataframe.Beta_S)\n",
    "    plt.legend(['Depth Buy', 'Depth Sell'])\n",
    "    plt.title('The Visualization of Depth for {}'.format(ticker))\n",
    "    plt.xlabel('Date')\n",
    "    plt.ylabel('Value of Parameter')\n",
    "    plt.xticks(rotation=15)\n",
    "    if export is None:\n",
    "        plt.show()\n",
    "    else:\n",
    "        plt.savefig(os.path.join(os.path.abspath(''), \n",
    "                                 './data_results/liquidity_figures/{}_depth.pdf'.format(ticker)), \n",
    "                   bbox_inches='tight')\n",
    "        plt.close()"
   ]
  },
  {
   "cell_type": "code",
   "execution_count": 7,
   "metadata": {},
   "outputs": [
    {
     "name": "stdout",
     "output_type": "stream",
     "text": [
      "AFKS\n"
     ]
    },
    {
     "name": "stderr",
     "output_type": "stream",
     "text": [
      "/usr/local/anaconda3/lib/python3.7/site-packages/pandas/plotting/_matplotlib/converter.py:103: FutureWarning: Using an implicitly registered datetime converter for a matplotlib plotting method. The converter was registered by pandas on import. Future versions of pandas will require you to explicitly register matplotlib converters.\n",
      "\n",
      "To register the converters:\n",
      "\t>>> from pandas.plotting import register_matplotlib_converters\n",
      "\t>>> register_matplotlib_converters()\n",
      "  warnings.warn(msg, FutureWarning)\n"
     ]
    },
    {
     "name": "stdout",
     "output_type": "stream",
     "text": [
      "AFLT\n",
      "ALRS\n",
      "CBOM\n",
      "CHMF\n",
      "DSKY\n",
      "ENRU\n",
      "FEES\n",
      "FIVE\n",
      "GAZP\n",
      "GMKN\n",
      "HYDR\n",
      "IRAO\n",
      "LKOH\n",
      "LNTA\n",
      "LSRG\n",
      "MAGN\n",
      "MGNT\n",
      "MOEX\n",
      "MSNG\n",
      "MTLR\n",
      "MTLRP\n",
      "MTSS\n",
      "MVID\n",
      "NLMK\n",
      "NVTK\n",
      "PHOR\n",
      "PIKK\n",
      "PLZL\n",
      "POLY\n",
      "ROSN\n",
      "RSTI\n",
      "RTKM\n",
      "RUAL\n",
      "SBER\n",
      "SBERP\n",
      "TATN\n",
      "TATNP\n",
      "TGKA\n",
      "TRMK\n",
      "TRNFP\n",
      "UPRO\n",
      "VTBR\n",
      "YNDX\n"
     ]
    }
   ],
   "source": [
    "df_over_all_tickers = pd.DataFrame(columns=['SECCODE', 'DATETIME', 'Alpha_B', \n",
    "                                            'Alpha_S', 'Beta_B', 'Beta_S'])\n",
    "for seccode in SECCODES:\n",
    "    print(seccode)\n",
    "    df = table_results_combine(seccode)\n",
    "    df_over_all_tickers = pd.concat((df_over_all_tickers, df), ignore_index=True)\n",
    "    df.to_csv(os.path.join(os.path.abspath(''), \n",
    "                           f'./data_results/liquidity_time_series_aggregated/{seccode}_liquidity_parameters.csv'))\n",
    "    plot_results_depth(df, export=True)\n",
    "    plot_results_tightness(df, export=True)\n",
    "df_over_all_tickers = df_over_all_tickers.reset_index(drop=True)\n",
    "df_over_all_tickers.to_csv(os.path.join(os.path.abspath(''), \n",
    "                                        f'./data_results/liquidity_time_series_aggregated/ALL_SECCODES_liquidity_parameters.csv'))"
   ]
  }
 ],
 "metadata": {
  "kernelspec": {
   "display_name": "Python 3",
   "language": "python",
   "name": "python3"
  },
  "language_info": {
   "codemirror_mode": {
    "name": "ipython",
    "version": 3
   },
   "file_extension": ".py",
   "mimetype": "text/x-python",
   "name": "python",
   "nbconvert_exporter": "python",
   "pygments_lexer": "ipython3",
   "version": "3.7.6"
  }
 },
 "nbformat": 4,
 "nbformat_minor": 2
}
